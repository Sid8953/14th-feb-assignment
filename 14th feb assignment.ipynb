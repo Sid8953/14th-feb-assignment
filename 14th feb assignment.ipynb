{
 "cells": [
  {
   "cell_type": "markdown",
   "id": "42ee2022-5d76-409f-849a-7f97d6397cee",
   "metadata": {},
   "source": [
    "# ans 1 \n",
    "Multithreading in Python is a technique to execute multiple threads (smaller units of a process) simultaneously, each of which runs independently of the main program. It allows multiple threads to share a single CPU, resulting in faster and more efficient execution of programs.\n",
    "\n",
    "Multithreading is used in Python to improve the performance of a program by executing tasks in parallel, especially in cases where tasks are CPU-bound or involve waiting for external resources (e.g., network or disk I/O). It is commonly used in applications that require concurrent or asynchronous processing, such as web servers, data processing pipelines, and real-time systems.\n",
    "\n",
    "In Python, the threading module is used to handle threads. The threading module provides a simple way to create and manage threads, with support for synchronization, locks, and events to coordinate access to shared resources."
   ]
  },
  {
   "cell_type": "code",
   "execution_count": 3,
   "id": "57e96ec6-ac5d-4eb6-b62f-063280313be2",
   "metadata": {},
   "outputs": [
    {
     "name": "stdout",
     "output_type": "stream",
     "text": [
      "This is your thread\n"
     ]
    }
   ],
   "source": [
    "import threading\n",
    "\n",
    "def my_thread_func():\n",
    "    print(\"This is your thread\")\n",
    "\n",
    "t = threading.Thread(target=my_thread_func)\n",
    "t.start()"
   ]
  },
  {
   "cell_type": "markdown",
   "id": "121b8194-9f3c-4e05-9939-9bde475438a8",
   "metadata": {},
   "source": [
    "# ans 2\n",
    "activeCount() currentThread() enumerate()\n",
    "\n",
    "The threading module in python is used to create and manage thread. It provides a high level interface for creating thread and controlling their execution, with support for synchronization, locks, and events to co-ordinate access to shared resources.\n",
    "\n",
    "here is a bfief explaination of the functions you asked about:\n",
    "\n",
    "activeCount(): This function return the number of currently active threads in the current thread's thread control block. IT can be used to check how many threads are currently runnig in a program.\n",
    "\n",
    "currentThread(): This function returns a reference to the current thread object. It can be used to get information about the curent thread, such as its name, identifier, and state.\n",
    "\n",
    "enumerate(): This function returns a list of all currently active thread objects. It can be used to get information about all the treads that are currently running in a program.\n"
   ]
  },
  {
   "cell_type": "code",
   "execution_count": 4,
   "id": "b7406171-87d0-4470-abd3-38917259df1e",
   "metadata": {},
   "outputs": [
    {
     "name": "stdout",
     "output_type": "stream",
     "text": [
      "this is your thread\n",
      "number of active threads: 8\n",
      "Current thread: <_MainThread(MainThread, started 140439970817856)>\n",
      "All threads: [<_MainThread(MainThread, started 140439970817856)>, <Thread(IOPub, started daemon 140439900288576)>, <Heartbeat(Heartbeat, started daemon 140439891895872)>, <Thread(Thread-3 (_watch_pipe_fd), started daemon 140439659214400)>, <Thread(Thread-4 (_watch_pipe_fd), started daemon 140439650821696)>, <ControlThread(Control, started daemon 140439642428992)>, <HistorySavingThread(IPythonHistorySavingThread, started 140439634036288)>, <ParentPollerUnix(Thread-2, started daemon 140439625643584)>]\n"
     ]
    }
   ],
   "source": [
    "import threading \n",
    "\n",
    "def my_thread_func():\n",
    "    print(\"this is your thread\")\n",
    "    \n",
    "t = threading.Thread(target=my_thread_func)\n",
    "\n",
    "t.start()\n",
    "\n",
    "num_threads = threading.active_count()\n",
    "print(\"number of active threads:\", num_threads)\n",
    "\n",
    "current_thread = threading.current_thread()\n",
    "print(\"Current thread:\", current_thread)\n",
    "\n",
    "all_threads = threading.enumerate()\n",
    "print(\"All threads:\", all_threads)"
   ]
  },
  {
   "cell_type": "markdown",
   "id": "8189abde-6651-43db-8799-915d671782fd",
   "metadata": {},
   "source": [
    "# ans 3\n",
    "run() start() join() isAlive()\n",
    "\n",
    "These functions are related to the Thread class in Python's threading module. Here's an explanation of each function:\n",
    "\n",
    "run(): This is the method that gets called when you start a thread. It contains the code that will run in the new thread. When creating a new thread, you can define your own run() method that will be executed in that thread.\n",
    "\n",
    "start(): This method starts the thread by calling the run() method. Once you've created a new thread with the Thread class, you can start it by calling the start() method.\n",
    "\n",
    "join(): This method blocks the main thread until the thread it's called on has finished. When you call join() on a thread, the main thread will wait until the thread has finished before continuing execution. This is useful if you need to ensure that a certain thread has completed before continuing with the rest of your code.\n",
    "\n",
    "is_alive(): This method returns True if the thread is still running, and False if it has finished. You can use this method to check the status of a thread and determine whether it's still executing or not."
   ]
  },
  {
   "cell_type": "code",
   "execution_count": 5,
   "id": "ddc38977-e4df-4179-8215-9e21e4433fa5",
   "metadata": {},
   "outputs": [
    {
     "name": "stdout",
     "output_type": "stream",
     "text": [
      "Worker thread started\n",
      "Thread is still running\n",
      "Worker thread finished\n",
      "Thread has finished\n"
     ]
    }
   ],
   "source": [
    "import threading\n",
    "import time\n",
    "\n",
    "def worker():\n",
    "    print(\"Worker thread started\")\n",
    "    time.sleep(2)\n",
    "    print(\"Worker thread finished\")\n",
    "\n",
    "t = threading.Thread(target=worker)\n",
    "t.start()\n",
    "\n",
    "if t.is_alive():\n",
    "    print(\"Thread is still running\")\n",
    "\n",
    "t.join()\n",
    "\n",
    "if t.is_alive():\n",
    "    print(\"Thread is still running\")\n",
    "else:\n",
    "    print(\"Thread has finished\")"
   ]
  },
  {
   "cell_type": "code",
   "execution_count": 6,
   "id": "48955905-0897-43a3-8a9f-b2ebb430803c",
   "metadata": {},
   "outputs": [
    {
     "name": "stdout",
     "output_type": "stream",
     "text": [
      "1 squared is 1\n",
      "2 squared is 4\n",
      "3 squared is 9\n",
      "4 squared is 16\n",
      "5 squared is 25\n",
      "6 squared is 36\n",
      "7 squared is 49\n",
      "8 squared is 64\n",
      "9 squared is 81\n",
      "10 squared is 100\n",
      "11 squared is 121\n",
      "12 squared is 144\n",
      "13 squared is 169\n",
      "14 squared is 196\n",
      "15 squared is 225\n",
      "16 squared is 256\n",
      "17 squared is 289\n",
      "18 squared is 324\n",
      "19 squared is 361\n",
      "20 squared is 400\n",
      "1 cubed is 1\n",
      "2 cubed is 8\n",
      "3 cubed is 27\n",
      "4 cubed is 64\n",
      "5 cubed is 125\n",
      "6 cubed is 216\n",
      "7 cubed is 343\n",
      "8 cubed is 512\n",
      "9 cubed is 729\n",
      "10 cubed is 1000\n",
      "11 cubed is 1331\n",
      "12 cubed is 1728\n",
      "13 cubed is 2197\n",
      "14 cubed is 2744\n",
      "15 cubed is 3375\n",
      "16 cubed is 4096\n",
      "17 cubed is 4913\n",
      "18 cubed is 5832\n",
      "19 cubed is 6859\n",
      "20 cubed is 8000\n"
     ]
    }
   ],
   "source": [
    "# ans 4\n",
    "import threading\n",
    "\n",
    "def squares():\n",
    "    for i in range(1, 21):\n",
    "        print(f\"{i} squared is {i*i}\")\n",
    "\n",
    "def cubes():\n",
    "    for i in range(1, 21):\n",
    "        print(f\"{i} cubed is {i*i*i}\")\n",
    "\n",
    "t1 = threading.Thread(target=squares)\n",
    "t2 = threading.Thread(target=cubes)\n",
    "\n",
    "t1.start()\n",
    "t2.start()\n",
    "\n",
    "t1.join()\n",
    "t2.join()"
   ]
  },
  {
   "cell_type": "markdown",
   "id": "0f122fda-14ef-4e37-90c3-dd4337c9cf0b",
   "metadata": {},
   "source": [
    "# ans 5\n",
    "Multithreading can offer several advantages and disadvantages, which are listed below:\n",
    "\n",
    "Advantages:\n",
    "\n",
    "Improved performance: Multithreading can improve the performance of a program by allowing it to perform multiple tasks concurrently.\n",
    "\n",
    "Increased responsiveness: Multithreading can improve the responsiveness of a program by allowing it to continue processing user input or other events while it performs time-consuming tasks in the background.\n",
    "\n",
    "Resource sharing: Multithreading can allow multiple threads to share resources, such as memory and file handles, which can save memory and improve efficiency.\n",
    "\n",
    "Disadvantages:\n",
    "\n",
    "Complexity: Multithreading can add complexity to a program, as it requires careful synchronization and coordination between threads to avoid race conditions and other concurrency issues.\n",
    "\n",
    "Overhead: Multithreading can add overhead to a program, as there is a cost associated with creating and managing multiple threads.\n",
    "\n",
    "Debugging: Multithreaded programs can be more difficult to debug, as concurrency issues can be difficult to reproduce and diagnose.\n",
    "\n",
    "Scalability: Multithreading may not always be the best solution for improving the scalability of a program, as it can be limited by factors such as the number of available cores or memory.\n",
    "\n",
    "Overall, multithreading can be a powerful tool for improving the performance and responsiveness of a program, but it requires careful design and management to avoid introducing new issues or complexity."
   ]
  },
  {
   "cell_type": "markdown",
   "id": "bd0e6e8c-786d-4463-8bec-1c61ae927b0b",
   "metadata": {},
   "source": [
    "# ans 6\n",
    "Deadlocks and race conditions are common concurrency issues that can occur in multithreaded programs.\n",
    "\n",
    "A deadlock occurs when two or more threads are blocked, waiting for each other to release a resource. This can happen when one thread holds a resource that another thread needs, and that second thread holds a resource that the first thread needs. This situation creates a circular dependency, where each thread is waiting for the other to release the resource, and neither can make progress.\n",
    "\n",
    "For example, imagine a program with two threads: Thread A and Thread B. Thread A holds Resource 1 and is waiting for Resource 2, while Thread B holds Resource 2 and is waiting for Resource 1. Since neither thread can proceed until it acquires the other resource, the program is deadlocked.\n",
    "\n",
    "A race condition, on the other hand, occurs when two or more threads access a shared resource in an unpredictable order, leading to unexpected or incorrect results. This can happen when multiple threads attempt to modify the same variable or object, and the order of those modifications is not deterministic.\n",
    "\n",
    "For example, imagine a program with two threads: Thread A and Thread B. Both threads access a shared variable called \"counter\" and increment it by 1. However, the order in which these increments occur is not guaranteed, and the final value of \"counter\" may be unpredictable. This is a race condition, as the final result depends on the order in which the threads execute, which may vary depending on factors such as thread scheduling and timing.\n",
    "\n",
    "Both deadlocks and race conditions can be difficult to detect and diagnose, as they can depend on a variety of external factors and may not be easily reproducible. To avoid these issues, it is important to design multithreaded programs carefully, with appropriate synchronization and coordination between threads to avoid conflicts and ensure correct behavior."
   ]
  },
  {
   "cell_type": "code",
   "execution_count": null,
   "id": "35957b19-30c3-443d-bc90-6e3d9c4de61b",
   "metadata": {},
   "outputs": [],
   "source": []
  }
 ],
 "metadata": {
  "kernelspec": {
   "display_name": "Python 3 (ipykernel)",
   "language": "python",
   "name": "python3"
  },
  "language_info": {
   "codemirror_mode": {
    "name": "ipython",
    "version": 3
   },
   "file_extension": ".py",
   "mimetype": "text/x-python",
   "name": "python",
   "nbconvert_exporter": "python",
   "pygments_lexer": "ipython3",
   "version": "3.10.8"
  }
 },
 "nbformat": 4,
 "nbformat_minor": 5
}
